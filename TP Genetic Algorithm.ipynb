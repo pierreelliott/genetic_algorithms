{
 "cells": [
  {
   "cell_type": "code",
   "execution_count": 119,
   "metadata": {},
   "outputs": [],
   "source": [
    "from blackbox37 import check\n",
    "import string\n",
    "import random\n",
    "\n",
    "available_characters = list(string.ascii_uppercase) + [str(i) for i in range(10)]\n",
    "available_characters.append(\"\")\n",
    "GROUP_ID = 2"
   ]
  },
  {
   "cell_type": "code",
   "execution_count": 120,
   "metadata": {},
   "outputs": [
    {
     "name": "stdout",
     "output_type": "stream",
     "text": [
      "['A', 'B', 'C', 'D', 'E', 'F', 'G', 'H', 'I', 'J', 'K', 'L', 'M', 'N', 'O', 'P', 'Q', 'R', 'S', 'T', 'U', 'V', 'W', 'X', 'Y', 'Z', '0', '1', '2', '3', '4', '5', '6', '7', '8', '9', '']\n"
     ]
    }
   ],
   "source": [
    "print(available_characters)"
   ]
  },
  {
   "cell_type": "code",
   "execution_count": 125,
   "metadata": {},
   "outputs": [],
   "source": [
    "def generate():\n",
    "#     size = random.randint(12, 18)\n",
    "    size = 18\n",
    "    individual = random.choices(available_characters, k=size)\n",
    "    while len(individual) < 12:\n",
    "        individual = random.choices(available_characters, k=size)\n",
    "    return individual"
   ]
  },
  {
   "cell_type": "code",
   "execution_count": 126,
   "metadata": {},
   "outputs": [
    {
     "name": "stdout",
     "output_type": "stream",
     "text": [
      "SDV01S7AUHHPX4GQV\n",
      "0.44975490196078427\n"
     ]
    }
   ],
   "source": [
    "sol = ''.join(generate())\n",
    "print(sol)\n",
    "print(check(group_number=2, attempt=sol))"
   ]
  },
  {
   "cell_type": "markdown",
   "metadata": {},
   "source": [
    "# Population definition"
   ]
  },
  {
   "cell_type": "code",
   "execution_count": 144,
   "metadata": {},
   "outputs": [],
   "source": [
    "def evaluate(x):\n",
    "    x['score'] = check(GROUP_ID, x['phenotype'])\n",
    "    return x\n",
    "\n",
    "def generate_population(size):\n",
    "    return [{'phenotype': generate(), 'score': None} for i in range(size)]\n",
    "\n",
    "\n",
    "class RandomExploration:\n",
    "    def evolve(self, pop):\n",
    "        pop.population = generate_population(len(pop.population))\n",
    "\n",
    "        \n",
    "class Population:\n",
    "    def __init__(self, size, exploration=RandomExploration()):\n",
    "        self.size = size\n",
    "        self.population = generate_population(size)\n",
    "        self.exploration = exploration\n",
    "        \n",
    "    def evaluate(self):\n",
    "        self.population = sorted(map(evaluate, self.population), key=lambda x: x['score'], reverse=True)\n",
    "        \n",
    "    def evolve(self):\n",
    "        self.exploration.evolve(self)\n",
    "    \n",
    "    def __str__(self):\n",
    "        return ''.join(map(lambda x: ''.join(x['phenotype']) + f\" ({x['score']})\\n\", self.population)).strip()"
   ]
  },
  {
   "cell_type": "markdown",
   "metadata": {},
   "source": [
    "### Testing Population"
   ]
  },
  {
   "cell_type": "code",
   "execution_count": 128,
   "metadata": {},
   "outputs": [
    {
     "name": "stdout",
     "output_type": "stream",
     "text": [
      "A1UZQDT1C1G5OH77UW (0.5220458553791888)\n",
      "UAMBJKWR1KM4RZLQQ6 (0.4772985705003248)\n",
      "T9UV7AA52ZYVSKU73 (0.3077731092436975)\n"
     ]
    }
   ],
   "source": [
    "test_pop = Population(3)\n",
    "test_pop.evaluate()\n",
    "print(str(test_pop))"
   ]
  },
  {
   "cell_type": "markdown",
   "metadata": {},
   "source": [
    "# Stratégies d'exploration"
   ]
  },
  {
   "cell_type": "code",
   "execution_count": 142,
   "metadata": {},
   "outputs": [],
   "source": [
    "def evolve(pop, epochs=5):\n",
    "    for epoch in range(epochs):\n",
    "        pop.evaluate()\n",
    "        print(\"------------------------\")\n",
    "        print(f\"Epoch {epoch+1}/{epochs}\")\n",
    "        print(str(pop))\n",
    "        pop.evolve()"
   ]
  },
  {
   "cell_type": "code",
   "execution_count": 143,
   "metadata": {},
   "outputs": [
    {
     "name": "stdout",
     "output_type": "stream",
     "text": [
      "------------------------\n",
      "Epoch 1/5\n",
      "1EQKWBNUEO0J3NCLO (0.4935383244206774)\n",
      "J3CFFMYB9B2XJKXWK (0.49264705882352944)\n",
      "DLV0QGUQ5FZ5IMBSTL (0.4820750237416905)\n",
      "BBOZZFMJM9VBSL7YO (0.44975490196078427)\n",
      "XPWNWDMV82T9S8LVH (0.43156604747162025)\n",
      "------------------------\n",
      "Epoch 2/5\n",
      "AX3I3EF0EM5WRG9OWY (0.5012654320987654)\n",
      "V7N6JL67PW3YDCR1 (0.47222222222222227)\n",
      "UZG7KMEIPLDWG8UZD7 (0.4611178207192701)\n",
      "SFYLKO20GLMOGWSOC (0.447730179028133)\n",
      "VHAMIACXZPCWRDBIL8 (0.44009539842873185)\n",
      "------------------------\n",
      "Epoch 3/5\n",
      "5597LLQBON9NXOIDSD (0.4680918663761801)\n",
      "MWBED9RSP8KJQGDRVS (0.46593915343915343)\n",
      "8V7K61MB9EVEB1A0UV (0.445679012345679)\n",
      "F38TSUB2J0RCDP0LK (0.4355392156862745)\n",
      "F43A1G5QT113SYPR (0.3680555555555556)\n",
      "------------------------\n",
      "Epoch 4/5\n",
      "CH36F49HHGSMUUG6RR (0.5397673314339982)\n",
      "L6GBWIXOY3D1H1KC5T (0.5231481481481481)\n",
      "6DFPUVG285OM2A0STC (0.43937869028448745)\n",
      "BG9PP558DTBNL0K5 (0.40833333333333344)\n",
      "6PUXK5JBD42VKAWI (0.3993055555555556)\n",
      "------------------------\n",
      "Epoch 5/5\n",
      "3U7J94FWXSWMHCMKM4 (0.49567901234567907)\n",
      "BFNWR5J6M7MHIGVUU (0.47356442577030816)\n",
      "0LJD3QN6EQF6KQUJ8A (0.47067901234567905)\n",
      "IH4KDGQWXW5ZS2T6TD (0.4628226711560046)\n",
      "52PXZPII8WDRMIBVHX (0.44212962962962976)\n"
     ]
    }
   ],
   "source": [
    "population1 = Population(5)\n",
    "evolve(population1)"
   ]
  },
  {
   "cell_type": "code",
   "execution_count": 146,
   "metadata": {},
   "outputs": [],
   "source": [
    "def selection(pop, size_bests):\n",
    "    return pop.population[:size_bests]"
   ]
  },
  {
   "cell_type": "code",
   "execution_count": 151,
   "metadata": {},
   "outputs": [],
   "source": [
    "# class CrossOver:\n",
    "    \n",
    "class CrossOverRandomTwo:\n",
    "    def __init__(self, prob):\n",
    "        self.prob = prob\n",
    "        \n",
    "    def __call__(self, bests):\n",
    "        indiv = random.sample(bests, k=2)\n",
    "        rand = random.randint(0, 18)\n",
    "        return {'genotype': indiv[0]['genotype'][:rand] + indiv[1]['genotype'][rand:], 'score': None}"
   ]
  },
  {
   "cell_type": "code",
   "execution_count": 152,
   "metadata": {},
   "outputs": [],
   "source": [
    "class SimpleExploration:\n",
    "    def __init__(self, cross_over, mutation, bests_size=5):\n",
    "        self.cross_over = cross_over\n",
    "        self.cross_over = cross_over\n",
    "        self.mutate = mutation\n",
    "        self.bests_size\n",
    "        \n",
    "    def evolve(pop):\n",
    "        new_population = []\n",
    "        # Get bests individuals\n",
    "        bests = selection(pop, n=self.bests_size)\n",
    "        # Do mutations for the rest of the population\n",
    "        for i in range(pop.size - self.bests_size): ########################## FIXME Gérer les individus \"mort-nés\"\n",
    "            if random.random() < self.cross_over.prob:\n",
    "                individual = cross_over(bests)\n",
    "            else:\n",
    "                individual = bests[0] ############################################# FIXME Faire une copie de l'individu\n",
    "            \n",
    "            self.mutate(individual) # In-place\n",
    "            new_population.append(individual)\n",
    "        pop.population = new_population"
   ]
  },
  {
   "cell_type": "code",
   "execution_count": null,
   "metadata": {},
   "outputs": [],
   "source": []
  },
  {
   "cell_type": "code",
   "execution_count": null,
   "metadata": {},
   "outputs": [],
   "source": []
  },
  {
   "cell_type": "code",
   "execution_count": null,
   "metadata": {},
   "outputs": [],
   "source": []
  },
  {
   "cell_type": "code",
   "execution_count": null,
   "metadata": {},
   "outputs": [],
   "source": []
  },
  {
   "cell_type": "code",
   "execution_count": null,
   "metadata": {},
   "outputs": [],
   "source": []
  },
  {
   "cell_type": "code",
   "execution_count": null,
   "metadata": {},
   "outputs": [],
   "source": []
  }
 ],
 "metadata": {
  "kernelspec": {
   "display_name": "Python 3",
   "language": "python",
   "name": "python3"
  },
  "language_info": {
   "codemirror_mode": {
    "name": "ipython",
    "version": 3
   },
   "file_extension": ".py",
   "mimetype": "text/x-python",
   "name": "python",
   "nbconvert_exporter": "python",
   "pygments_lexer": "ipython3",
   "version": "3.7.4"
  }
 },
 "nbformat": 4,
 "nbformat_minor": 4
}
