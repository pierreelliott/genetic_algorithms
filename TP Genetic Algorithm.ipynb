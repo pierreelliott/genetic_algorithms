{
 "cells": [
  {
   "cell_type": "code",
   "execution_count": 176,
   "metadata": {},
   "outputs": [],
   "source": [
    "from blackbox37 import check\n",
    "import string\n",
    "import random\n",
    "\n",
    "available_characters = list(string.ascii_uppercase) + [str(i) for i in range(10)]\n",
    "available_characters.append(\"\")\n",
    "GROUP_ID = 2"
   ]
  },
  {
   "cell_type": "code",
   "execution_count": 120,
   "metadata": {},
   "outputs": [
    {
     "name": "stdout",
     "output_type": "stream",
     "text": [
      "['A', 'B', 'C', 'D', 'E', 'F', 'G', 'H', 'I', 'J', 'K', 'L', 'M', 'N', 'O', 'P', 'Q', 'R', 'S', 'T', 'U', 'V', 'W', 'X', 'Y', 'Z', '0', '1', '2', '3', '4', '5', '6', '7', '8', '9', '']\n"
     ]
    }
   ],
   "source": [
    "print(available_characters)"
   ]
  },
  {
   "cell_type": "code",
   "execution_count": 125,
   "metadata": {},
   "outputs": [],
   "source": [
    "def generate():\n",
    "#     size = random.randint(12, 18)\n",
    "    size = 18\n",
    "    individual = random.choices(available_characters, k=size)\n",
    "    while len(individual) < 12:\n",
    "        individual = random.choices(available_characters, k=size)\n",
    "    return individual"
   ]
  },
  {
   "cell_type": "code",
   "execution_count": 126,
   "metadata": {},
   "outputs": [
    {
     "name": "stdout",
     "output_type": "stream",
     "text": [
      "SDV01S7AUHHPX4GQV\n",
      "0.44975490196078427\n"
     ]
    }
   ],
   "source": [
    "sol = ''.join(generate())\n",
    "print(sol)\n",
    "print(check(group_number=2, attempt=sol))"
   ]
  },
  {
   "cell_type": "markdown",
   "metadata": {},
   "source": [
    "# Population definition"
   ]
  },
  {
   "cell_type": "code",
   "execution_count": 153,
   "metadata": {},
   "outputs": [],
   "source": [
    "def evaluate(x):\n",
    "    x['score'] = check(GROUP_ID, x['genotype'])\n",
    "    return x\n",
    "\n",
    "def generate_population(size):\n",
    "    return [{'genotype': generate(), 'score': None} for i in range(size)]\n",
    "\n",
    "\n",
    "class RandomExploration:\n",
    "    def evolve(self, pop):\n",
    "        pop.population = generate_population(len(pop.population))\n",
    "\n",
    "        \n",
    "class Population:\n",
    "    def __init__(self, size, exploration=RandomExploration()):\n",
    "        self.size = size\n",
    "        self.population = generate_population(size)\n",
    "        self.exploration = exploration\n",
    "        \n",
    "    def evaluate(self):\n",
    "        self.population = sorted(map(evaluate, self.population), key=lambda x: x['score'], reverse=True)\n",
    "        \n",
    "    def evolve(self):\n",
    "        self.exploration.evolve(self)\n",
    "    \n",
    "    def __str__(self):\n",
    "        return ''.join(map(lambda x: ''.join(x['genotype']) + f\" ({x['score']})\\n\", self.population)).strip()"
   ]
  },
  {
   "cell_type": "markdown",
   "metadata": {},
   "source": [
    "### Testing Population"
   ]
  },
  {
   "cell_type": "code",
   "execution_count": 128,
   "metadata": {},
   "outputs": [
    {
     "name": "stdout",
     "output_type": "stream",
     "text": [
      "A1UZQDT1C1G5OH77UW (0.5220458553791888)\n",
      "UAMBJKWR1KM4RZLQQ6 (0.4772985705003248)\n",
      "T9UV7AA52ZYVSKU73 (0.3077731092436975)\n"
     ]
    }
   ],
   "source": [
    "test_pop = Population(3)\n",
    "test_pop.evaluate()\n",
    "print(str(test_pop))"
   ]
  },
  {
   "cell_type": "markdown",
   "metadata": {},
   "source": [
    "# Stratégies d'exploration"
   ]
  },
  {
   "cell_type": "code",
   "execution_count": 198,
   "metadata": {},
   "outputs": [],
   "source": [
    "def evolve(pop, epochs=5, show_progress=False):\n",
    "    averages = []\n",
    "    bests = []\n",
    "    best = pop.population[0]\n",
    "    for epoch in range(epochs):\n",
    "        pop.evaluate()\n",
    "        b = max(pop.population, key=lambda x: x['score'])\n",
    "        best = b if b['score'] > best['score'] else best\n",
    "        bests.append(best['score'])\n",
    "        average = sum(map(lambda x: x['score'], pop.population)) / pop.size\n",
    "        averages.append(average)\n",
    "        if show_progress:\n",
    "            print(f\"Epoch {epoch+1}/{epochs}: Best {''.join(best['genotype'])} ({best['score']}) (average: {average})\")\n",
    "#             print(str(pop))\n",
    "        pop.evolve()\n",
    "    return averages, bests, best"
   ]
  },
  {
   "cell_type": "code",
   "execution_count": 143,
   "metadata": {
    "collapsed": true,
    "jupyter": {
     "outputs_hidden": true
    }
   },
   "outputs": [
    {
     "name": "stdout",
     "output_type": "stream",
     "text": [
      "------------------------\n",
      "Epoch 1/5\n",
      "1EQKWBNUEO0J3NCLO (0.4935383244206774)\n",
      "J3CFFMYB9B2XJKXWK (0.49264705882352944)\n",
      "DLV0QGUQ5FZ5IMBSTL (0.4820750237416905)\n",
      "BBOZZFMJM9VBSL7YO (0.44975490196078427)\n",
      "XPWNWDMV82T9S8LVH (0.43156604747162025)\n",
      "------------------------\n",
      "Epoch 2/5\n",
      "AX3I3EF0EM5WRG9OWY (0.5012654320987654)\n",
      "V7N6JL67PW3YDCR1 (0.47222222222222227)\n",
      "UZG7KMEIPLDWG8UZD7 (0.4611178207192701)\n",
      "SFYLKO20GLMOGWSOC (0.447730179028133)\n",
      "VHAMIACXZPCWRDBIL8 (0.44009539842873185)\n",
      "------------------------\n",
      "Epoch 3/5\n",
      "5597LLQBON9NXOIDSD (0.4680918663761801)\n",
      "MWBED9RSP8KJQGDRVS (0.46593915343915343)\n",
      "8V7K61MB9EVEB1A0UV (0.445679012345679)\n",
      "F38TSUB2J0RCDP0LK (0.4355392156862745)\n",
      "F43A1G5QT113SYPR (0.3680555555555556)\n",
      "------------------------\n",
      "Epoch 4/5\n",
      "CH36F49HHGSMUUG6RR (0.5397673314339982)\n",
      "L6GBWIXOY3D1H1KC5T (0.5231481481481481)\n",
      "6DFPUVG285OM2A0STC (0.43937869028448745)\n",
      "BG9PP558DTBNL0K5 (0.40833333333333344)\n",
      "6PUXK5JBD42VKAWI (0.3993055555555556)\n",
      "------------------------\n",
      "Epoch 5/5\n",
      "3U7J94FWXSWMHCMKM4 (0.49567901234567907)\n",
      "BFNWR5J6M7MHIGVUU (0.47356442577030816)\n",
      "0LJD3QN6EQF6KQUJ8A (0.47067901234567905)\n",
      "IH4KDGQWXW5ZS2T6TD (0.4628226711560046)\n",
      "52PXZPII8WDRMIBVHX (0.44212962962962976)\n"
     ]
    }
   ],
   "source": [
    "population1 = Population(5)\n",
    "evolve(population1)"
   ]
  },
  {
   "cell_type": "code",
   "execution_count": 166,
   "metadata": {},
   "outputs": [],
   "source": [
    "def selection(pop, size_bests):\n",
    "    return pop.population[:size_bests]\n",
    "\n",
    "def copy_individual(individual):\n",
    "    return {'genotype': individual['genotype'][:], 'score': individual['score']}"
   ]
  },
  {
   "cell_type": "code",
   "execution_count": 162,
   "metadata": {},
   "outputs": [],
   "source": [
    "# class CrossOver:\n",
    "    \n",
    "class CrossOverRandomTwo:\n",
    "    def __init__(self, prob):\n",
    "        self.prob = prob\n",
    "        \n",
    "    def __call__(self, bests):\n",
    "        indiv = random.sample(bests, k=2)\n",
    "        rand = random.randint(0, 18)\n",
    "        return {'genotype': indiv[0]['genotype'][:rand] + indiv[1]['genotype'][rand:], 'score': None}"
   ]
  },
  {
   "cell_type": "code",
   "execution_count": 184,
   "metadata": {},
   "outputs": [],
   "source": [
    "class NCharMutation:\n",
    "    \"\"\"\n",
    "    Mutate n characters in the sequence\n",
    "    \"\"\"\n",
    "    def __init__(self, n):\n",
    "        self.n = n\n",
    "        \n",
    "    def __call__(self, individual):\n",
    "        charidx_to_mutate = random.choices(range(len(individual['genotype'])), k=self.n)\n",
    "        \n",
    "        for idx in charidx_to_mutate:\n",
    "            individual['genotype'][idx] = random.choice(available_characters)"
   ]
  },
  {
   "cell_type": "code",
   "execution_count": 194,
   "metadata": {},
   "outputs": [],
   "source": [
    "class SimpleExploration:\n",
    "    def __init__(self, cross_over, mutation, bests_size=5):\n",
    "        self.cross_over = cross_over\n",
    "        self.cross_over = cross_over\n",
    "        self.mutate = mutation\n",
    "        self.bests_size = bests_size\n",
    "        \n",
    "    def evolve(self, pop):\n",
    "        new_population = []\n",
    "        # Get bests individuals\n",
    "        bests = selection(pop, self.bests_size)\n",
    "        # Do mutations for the rest of the population\n",
    "        for i in range(pop.size - self.bests_size): ########################## FIXME Gérer les individus \"mort-nés\"\n",
    "            if random.random() < self.cross_over.prob:\n",
    "                individual = self.cross_over(bests)\n",
    "            else:\n",
    "                individual = copy_individual(bests[0]) ############################################# FIXME\n",
    "            \n",
    "            self.mutate(individual) # In-place\n",
    "            new_population.append(individual)\n",
    "        pop.population = new_population"
   ]
  },
  {
   "cell_type": "code",
   "execution_count": 182,
   "metadata": {},
   "outputs": [],
   "source": [
    "from matplotlib import pyplot as plt\n",
    "%matplotlib inline\n",
    "\n",
    "def plot_results(average, bests):\n",
    "    plt.figure(figsize=(20, 7))\n",
    "    plt.plot(average, color='green', linestyle='dotted', label='Moyenne de la population actuelle')\n",
    "    plt.plot(bests, color='red', label='Maximum trouvé')\n",
    "    plt.xlabel('Itérations')\n",
    "    plt.ylabel('Scores')\n",
    "    plt.legend(loc=\"upper left\")\n",
    "    plt.show()"
   ]
  },
  {
   "cell_type": "code",
   "execution_count": 196,
   "metadata": {},
   "outputs": [],
   "source": [
    "def search(population_size=10, epochs=10):\n",
    "    cross_over = CrossOverRandomTwo(0.6)\n",
    "    mutation = NCharMutation(n=2)\n",
    "    exploration = SimpleExploration(cross_over, mutation)\n",
    "    \n",
    "    population = Population(population_size, exploration=exploration)\n",
    "    averages, bests, best = evolve(population, epochs=epochs, show_progress=True)\n",
    "    print(f\"Best solution found: {''.join(best['genotype'])} ({best['score']})\")\n",
    "    plot_results(averages, bests)"
   ]
  },
  {
   "cell_type": "code",
   "execution_count": 199,
   "metadata": {},
   "outputs": [
    {
     "name": "stdout",
     "output_type": "stream",
     "text": [
      "Epoch 1/10: Best 33NXEJY8PGUYXMA2VO (0.5263352120236178) (average: 0.44661103636417165)\n",
      "Epoch 2/10: Best ZR7DOBKWCEZKO93GFU (0.5578703703703702) (average: 0.25506891162262)\n",
      "Epoch 3/10: Best 339XSJM8PGUYXMA2FU (0.5589981006647674) (average: 0.26850240808574144)\n",
      "Epoch 4/10: Best 339XSJM8PGUYXMA2FU (0.5589981006647674) (average: 0.25785772869106205)\n",
      "Epoch 5/10: Best 339XSJM8PGUYXMA2FU (0.5589981006647674) (average: 0.24585422897017098)\n",
      "Epoch 6/10: Best 339XSJM8PGUYXMA2FU (0.5589981006647674) (average: 0.25671390013495277)\n",
      "Epoch 7/10: Best 339XSJM8PGUYXMA2FU (0.5589981006647674) (average: 0.23748381218747347)\n",
      "Epoch 8/10: Best 339XSJM8PGUYXMA2FU (0.5589981006647674) (average: 0.26695707542276165)\n",
      "Epoch 9/10: Best 339XSJM8PGUYXMA2FU (0.5589981006647674) (average: 0.2666705072342327)\n",
      "Epoch 10/10: Best 339XSJM8PGUYXMA2FU (0.5589981006647674) (average: 0.24663325804630154)\n",
      "Best solution found: 339XSJM8PGUYXMA2FU (0.5589981006647674)\n"
     ]
    },
    {
     "data": {
      "image/png": "[encoded data removed]",
      "text/plain": [
       "<Figure size 1440x504 with 1 Axes>"
      ]
     },
     "metadata": {
      "needs_background": "light"
     },
     "output_type": "display_data"
    }
   ],
   "source": [
    "search()"
   ]
  },
  {
   "cell_type": "code",
   "execution_count": null,
   "metadata": {},
   "outputs": [],
   "source": []
  },
  {
   "cell_type": "code",
   "execution_count": null,
   "metadata": {},
   "outputs": [],
   "source": []
  },
  {
   "cell_type": "code",
   "execution_count": null,
   "metadata": {},
   "outputs": [],
   "source": []
  }
 ],
 "metadata": {
  "kernelspec": {
   "display_name": "Python 3",
   "language": "python",
   "name": "python3"
  },
  "language_info": {
   "codemirror_mode": {
    "name": "ipython",
    "version": 3
   },
   "file_extension": ".py",
   "mimetype": "text/x-python",
   "name": "python",
   "nbconvert_exporter": "python",
   "pygments_lexer": "ipython3",
   "version": "3.7.4"
  }
 },
 "nbformat": 4,
 "nbformat_minor": 4
}
