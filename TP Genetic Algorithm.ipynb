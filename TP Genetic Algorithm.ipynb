{
 "cells": [
  {
   "cell_type": "code",
   "execution_count": 119,
   "metadata": {},
   "outputs": [],
   "source": [
    "from blackbox37 import check\n",
    "import string\n",
    "import random\n",
    "\n",
    "available_characters = list(string.ascii_uppercase) + [str(i) for i in range(10)]\n",
    "available_characters.append(\"\")\n",
    "GROUP_ID = 2"
   ]
  },
  {
   "cell_type": "code",
   "execution_count": 120,
   "metadata": {},
   "outputs": [
    {
     "name": "stdout",
     "output_type": "stream",
     "text": [
      "['A', 'B', 'C', 'D', 'E', 'F', 'G', 'H', 'I', 'J', 'K', 'L', 'M', 'N', 'O', 'P', 'Q', 'R', 'S', 'T', 'U', 'V', 'W', 'X', 'Y', 'Z', '0', '1', '2', '3', '4', '5', '6', '7', '8', '9', '']\n"
     ]
    }
   ],
   "source": [
    "print(available_characters)"
   ]
  },
  {
   "cell_type": "code",
   "execution_count": 125,
   "metadata": {},
   "outputs": [],
   "source": [
    "def generate():\n",
    "#     size = random.randint(12, 18)\n",
    "    size = 18\n",
    "    individual = random.choices(available_characters, k=size)\n",
    "    while len(individual) < 12:\n",
    "        individual = random.choices(available_characters, k=size)\n",
    "    return individual"
   ]
  },
  {
   "cell_type": "code",
   "execution_count": 126,
   "metadata": {},
   "outputs": [
    {
     "name": "stdout",
     "output_type": "stream",
     "text": [
      "SDV01S7AUHHPX4GQV\n",
      "0.44975490196078427\n"
     ]
    }
   ],
   "source": [
    "sol = ''.join(generate())\n",
    "print(sol)\n",
    "print(check(group_number=2, attempt=sol))"
   ]
  },
  {
   "cell_type": "markdown",
   "metadata": {},
   "source": [
    "# Population definition"
   ]
  },
  {
   "cell_type": "code",
   "execution_count": 127,
   "metadata": {},
   "outputs": [],
   "source": [
    "def evaluate(x):\n",
    "    x['score'] = check(GROUP_ID, x['phenotype'])\n",
    "    return x\n",
    "\n",
    "def generate_population(size):\n",
    "    return [{'phenotype': generate(), 'score': None} for i in range(size)]\n",
    "\n",
    "\n",
    "class RandomExploration:\n",
    "    def explore(pop):\n",
    "        pop.population = generate_population(len(pop.population))\n",
    "\n",
    "        \n",
    "class Population:\n",
    "    def __init__(self, size, exploration=RandomExploration):\n",
    "        self.population = generate_population(size)\n",
    "        self.exploration = exploration\n",
    "        \n",
    "    def evaluate(self):\n",
    "        self.population = sorted(map(evaluate, self.population), key=lambda x: x['score'], reverse=True)\n",
    "        \n",
    "    def evolve(self):\n",
    "        self.exploration.explore(self)\n",
    "    \n",
    "    def __str__(self):\n",
    "        return ''.join(map(lambda x: ''.join(x['phenotype']) + f\" ({x['score']})\\n\", self.population)).strip()"
   ]
  },
  {
   "cell_type": "markdown",
   "metadata": {},
   "source": [
    "### Testing Population"
   ]
  },
  {
   "cell_type": "code",
   "execution_count": 128,
   "metadata": {},
   "outputs": [
    {
     "name": "stdout",
     "output_type": "stream",
     "text": [
      "A1UZQDT1C1G5OH77UW (0.5220458553791888)\n",
      "UAMBJKWR1KM4RZLQQ6 (0.4772985705003248)\n",
      "T9UV7AA52ZYVSKU73 (0.3077731092436975)\n"
     ]
    }
   ],
   "source": [
    "test_pop = Population(3)\n",
    "test_pop.evaluate()\n",
    "print(str(test_pop))"
   ]
  },
  {
   "cell_type": "markdown",
   "metadata": {},
   "source": [
    "# Stratégies d'exploration"
   ]
  },
  {
   "cell_type": "code",
   "execution_count": 129,
   "metadata": {},
   "outputs": [],
   "source": [
    "def evolve(pop, epochs=5):\n",
    "    for epoch in range(epochs):\n",
    "        pop.evaluate()\n",
    "        print(\"------------------------\")\n",
    "        print(f\"Epoch {epoch+1}/{epochs}\")\n",
    "        print(str(pop))\n",
    "        pop.evolve()"
   ]
  },
  {
   "cell_type": "code",
   "execution_count": 130,
   "metadata": {},
   "outputs": [
    {
     "name": "stdout",
     "output_type": "stream",
     "text": [
      "------------------------\n",
      "Epoch 1/5\n",
      "RFR9FUH9CUCI4VU4ER (0.5399029982363316)\n",
      "AXCMDNY8Q3DCF2CO (0.439327485380117)\n",
      "6TNPV216ZOML2JJF27 (0.4305555555555555)\n",
      "S30JM6FL788KTFR270 (0.41820987654320985)\n",
      "9LBHLK9QVDIIQFBV (0.4166666666666667)\n",
      "------------------------\n",
      "Epoch 2/5\n",
      "XFJ3I4DN7TZXT4AT6 (0.5318627450980392)\n",
      "9UJBOW9I1KOY1HZX6O (0.5310044893378226)\n",
      "L28BH5WVOUIOPQ2L73 (0.46593915343915343)\n",
      "B25KT8G0SCA4SVFZHU (0.46111782071926993)\n",
      "HN7EAG2M0840VFQGWA (0.43937869028448745)\n",
      "------------------------\n",
      "Epoch 3/5\n",
      "NFGRUXBXYJWV8KUTAP (0.5263352120236178)\n",
      "AYI54VW1JQAO0FC1N5 (0.5208333333333334)\n",
      "HNVCGAZ42S51VGL3M1 (0.4398148148148149)\n",
      "VCJHJVIXBG344WLHSB (0.42466699155295656)\n",
      "YBXRXYZ33C87QKDNZ6 (0.37411816578483253)\n",
      "------------------------\n",
      "Epoch 4/5\n",
      "ZAC4PAV0L3S0HWMH2 (0.530343137254902)\n",
      "D60HDBZVNL2GH7GCWN (0.5013057929724597)\n",
      "P8O2QBKX9ZCPHZUZW (0.46946930946291565)\n",
      "OEEMA3T38FVFOFEP3Y (0.44212962962962976)\n",
      "Q9COWMPO3IA67T3K59 (0.4305555555555555)\n",
      "------------------------\n",
      "Epoch 5/5\n",
      "J14NG1SGK9C11U543U (0.5012654320987654)\n",
      "FGRRCYXHR1S5IDI6 (0.5)\n",
      "LE94PPANTV25K8NHO (0.4694693094629157)\n",
      "6QJ7BHVJNH43Z4RRZ (0.41544117647058826)\n",
      "P6GMM4IEBVKBVAEPG (0.37893446852425194)\n"
     ]
    }
   ],
   "source": [
    "population1 = Population(5)\n",
    "evolve(population1)"
   ]
  },
  {
   "cell_type": "code",
   "execution_count": 131,
   "metadata": {},
   "outputs": [
    {
     "ename": "SyntaxError",
     "evalue": "unexpected EOF while parsing (<ipython-input-131-6bd17f3804c2>, line 1)",
     "output_type": "error",
     "traceback": [
      "\u001b[1;36m  File \u001b[1;32m\"<ipython-input-131-6bd17f3804c2>\"\u001b[1;36m, line \u001b[1;32m1\u001b[0m\n\u001b[1;33m    class SimpleStrategy:\u001b[0m\n\u001b[1;37m                         ^\u001b[0m\n\u001b[1;31mSyntaxError\u001b[0m\u001b[1;31m:\u001b[0m unexpected EOF while parsing\n"
     ]
    }
   ],
   "source": [
    "class SimpleStrategy:"
   ]
  },
  {
   "cell_type": "code",
   "execution_count": null,
   "metadata": {},
   "outputs": [],
   "source": []
  },
  {
   "cell_type": "code",
   "execution_count": null,
   "metadata": {},
   "outputs": [],
   "source": []
  },
  {
   "cell_type": "code",
   "execution_count": null,
   "metadata": {},
   "outputs": [],
   "source": []
  },
  {
   "cell_type": "code",
   "execution_count": null,
   "metadata": {},
   "outputs": [],
   "source": []
  },
  {
   "cell_type": "code",
   "execution_count": null,
   "metadata": {},
   "outputs": [],
   "source": []
  },
  {
   "cell_type": "code",
   "execution_count": null,
   "metadata": {},
   "outputs": [],
   "source": []
  },
  {
   "cell_type": "code",
   "execution_count": null,
   "metadata": {},
   "outputs": [],
   "source": []
  },
  {
   "cell_type": "code",
   "execution_count": null,
   "metadata": {},
   "outputs": [],
   "source": []
  },
  {
   "cell_type": "code",
   "execution_count": null,
   "metadata": {},
   "outputs": [],
   "source": []
  }
 ],
 "metadata": {
  "kernelspec": {
   "display_name": "Python 3",
   "language": "python",
   "name": "python3"
  },
  "language_info": {
   "codemirror_mode": {
    "name": "ipython",
    "version": 3
   },
   "file_extension": ".py",
   "mimetype": "text/x-python",
   "name": "python",
   "nbconvert_exporter": "python",
   "pygments_lexer": "ipython3",
   "version": "3.7.4"
  }
 },
 "nbformat": 4,
 "nbformat_minor": 4
}
