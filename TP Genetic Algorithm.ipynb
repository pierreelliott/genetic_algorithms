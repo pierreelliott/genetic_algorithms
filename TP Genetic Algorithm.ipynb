{
 "cells": [
  {
   "cell_type": "code",
   "execution_count": 8,
   "metadata": {},
   "outputs": [],
   "source": [
    "from blackbox37 import check\n",
    "import string\n",
    "import random\n",
    "from matplotlib import pyplot as plt\n",
    "%matplotlib inline\n",
    "\n",
    "from cross_overs import CrossOverRandomTwo\n",
    "from explorations import RandomExploration, SimpleExploration\n",
    "from mutations import NCharMutation\n",
    "from population import Population"
   ]
  },
  {
   "cell_type": "code",
   "execution_count": 9,
   "metadata": {},
   "outputs": [],
   "source": [
    "available_characters = list(string.ascii_uppercase) + [str(i) for i in range(10)]\n",
    "available_characters.append(\"\")\n",
    "GROUP_ID = 2"
   ]
  },
  {
   "cell_type": "code",
   "execution_count": 3,
   "metadata": {},
   "outputs": [
    {
     "name": "stdout",
     "output_type": "stream",
     "text": [
      "['A', 'B', 'C', 'D', 'E', 'F', 'G', 'H', 'I', 'J', 'K', 'L', 'M', 'N', 'O', 'P', 'Q', 'R', 'S', 'T', 'U', 'V', 'W', 'X', 'Y', 'Z', '0', '1', '2', '3', '4', '5', '6', '7', '8', '9', '']\n"
     ]
    }
   ],
   "source": [
    "print(available_characters)"
   ]
  },
  {
   "cell_type": "code",
   "execution_count": 4,
   "metadata": {},
   "outputs": [],
   "source": [
    "def generate():\n",
    "#     size = random.randint(12, 18)\n",
    "    size = 18\n",
    "    individual = random.choices(available_characters, k=size)\n",
    "    while len(individual) < 12:\n",
    "        individual = random.choices(available_characters, k=size)\n",
    "    return individual"
   ]
  },
  {
   "cell_type": "code",
   "execution_count": 5,
   "metadata": {},
   "outputs": [
    {
     "name": "stdout",
     "output_type": "stream",
     "text": [
      "VXG69MXOUTIOOUWYU1\n",
      "0.4659391534391535\n"
     ]
    }
   ],
   "source": [
    "sol = ''.join(generate())\n",
    "print(sol)\n",
    "print(check(group_number=2, attempt=sol))"
   ]
  },
  {
   "cell_type": "code",
   "execution_count": 1,
   "metadata": {},
   "outputs": [],
   "source": [
    "def plot_results(average, bests):\n",
    "    plt.figure(figsize=(20, 7))\n",
    "    plt.plot(average, color='green', linestyle='dotted', label='Moyenne de la population actuelle')\n",
    "    plt.plot(bests, color='red', label='Maximum trouvé')\n",
    "    plt.xlabel('Itérations')\n",
    "    plt.ylabel('Scores')\n",
    "    plt.legend(loc=\"upper left\")\n",
    "    plt.show()"
   ]
  },
  {
   "cell_type": "markdown",
   "metadata": {},
   "source": [
    "# Evolution des populations"
   ]
  },
  {
   "cell_type": "code",
   "execution_count": 7,
   "metadata": {},
   "outputs": [],
   "source": [
    "def evolve_population(population, max_epochs=1000, show_progress=False, progress_step=10):\n",
    "    averages = []\n",
    "    bests = []\n",
    "    best = population.population[0]\n",
    "    for epoch in range(max_epochs):\n",
    "        population.evaluate()\n",
    "        b = population.get_max()\n",
    "        best = b if b.score > best.score else best\n",
    "        bests.append(best.score)\n",
    "        average = population.get_average_score()\n",
    "        averages.append(average)\n",
    "        \n",
    "        if show_progress:\n",
    "            print(f\"Epoch {epoch+1}/{epochs}: Best {best.phenotype()} ({best.score}) (average: {average})\")\n",
    "            \n",
    "        if best.score == 1.0:\n",
    "            print(f\"Best found: {best.phenotype()} at Epoch {epoch+1}/{epochs}!\")\n",
    "            break\n",
    "            \n",
    "        pop.evolve()\n",
    "    return averages, bests, best"
   ]
  },
  {
   "cell_type": "markdown",
   "metadata": {},
   "source": [
    "## TODO\n",
    "\n",
    "Rajouter :\n",
    "- Dans Population\n",
    "  - get_max() -> Renvoie la classe Individual\n",
    "  - get_average_score()\n",
    "- Dans Individual\n",
    "  - phenotype() -> Retourne le phenotype formaté\n"
   ]
  },
  {
   "cell_type": "code",
   "execution_count": 6,
   "metadata": {},
   "outputs": [],
   "source": [
    "def search(population_size=10, epochs=10):\n",
    "    cross_over = CrossOverRandomTwo(0.6)\n",
    "    mutation = NCharMutation(n=2)\n",
    "    exploration = SimpleExploration(cross_over, mutation, bests_size=int(population_size/10))\n",
    "    \n",
    "    population = Population(population_size, exploration=exploration)\n",
    "    averages, bests, best = evolve(population, epochs=epochs, show_progress=False)\n",
    "    print(f\"Best solution found: {''.join(best['genotype'])} ({best['score']})\")\n",
    "    plot_results(averages, bests)"
   ]
  },
  {
   "cell_type": "code",
   "execution_count": null,
   "metadata": {},
   "outputs": [],
   "source": []
  }
 ],
 "metadata": {
  "kernelspec": {
   "display_name": "Python 3",
   "language": "python",
   "name": "python3"
  },
  "language_info": {
   "codemirror_mode": {
    "name": "ipython",
    "version": 3
   },
   "file_extension": ".py",
   "mimetype": "text/x-python",
   "name": "python",
   "nbconvert_exporter": "python",
   "pygments_lexer": "ipython3",
   "version": "3.7.4"
  }
 },
 "nbformat": 4,
 "nbformat_minor": 4
}
