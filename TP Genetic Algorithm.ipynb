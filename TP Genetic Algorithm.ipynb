{
 "cells": [
  {
   "cell_type": "code",
   "execution_count": 1,
   "metadata": {},
   "outputs": [
    {
     "ename": "ImportError",
     "evalue": "cannot import name 'generate_population' from 'utils' (C:\\Users\\pierr\\Projets\\Polytech\\Bio-inspired Intelligence\\genetic_algorithms\\utils.py)",
     "output_type": "error",
     "traceback": [
      "\u001b[1;31m---------------------------------------------------------------------------\u001b[0m",
      "\u001b[1;31mImportError\u001b[0m                               Traceback (most recent call last)",
      "\u001b[1;32m<ipython-input-1-69260105f8f9>\u001b[0m in \u001b[0;36m<module>\u001b[1;34m\u001b[0m\n\u001b[0;32m      8\u001b[0m \u001b[1;31m# from explorations import RandomExploration, SimpleExploration\u001b[0m\u001b[1;33m\u001b[0m\u001b[1;33m\u001b[0m\u001b[1;33m\u001b[0m\u001b[0m\n\u001b[0;32m      9\u001b[0m \u001b[1;32mfrom\u001b[0m \u001b[0mmutations\u001b[0m \u001b[1;32mimport\u001b[0m \u001b[0mNCharMutation\u001b[0m\u001b[1;33m\u001b[0m\u001b[1;33m\u001b[0m\u001b[0m\n\u001b[1;32m---> 10\u001b[1;33m \u001b[1;32mfrom\u001b[0m \u001b[0mpopulation\u001b[0m \u001b[1;32mimport\u001b[0m \u001b[0mPopulation\u001b[0m\u001b[1;33m,\u001b[0m \u001b[0mIndividual\u001b[0m\u001b[1;33m\u001b[0m\u001b[1;33m\u001b[0m\u001b[0m\n\u001b[0m",
      "\u001b[1;32m~\\Projets\\Polytech\\Bio-inspired Intelligence\\genetic_algorithms\\population.py\u001b[0m in \u001b[0;36m<module>\u001b[1;34m\u001b[0m\n\u001b[1;32m----> 1\u001b[1;33m \u001b[1;32mfrom\u001b[0m \u001b[0mexplorations\u001b[0m \u001b[1;32mimport\u001b[0m \u001b[0mRandomExploration\u001b[0m\u001b[1;33m\u001b[0m\u001b[1;33m\u001b[0m\u001b[0m\n\u001b[0m\u001b[0;32m      2\u001b[0m \u001b[1;32mfrom\u001b[0m \u001b[0mutils\u001b[0m \u001b[1;32mimport\u001b[0m \u001b[0mgenerate_population\u001b[0m\u001b[1;33m,\u001b[0m \u001b[0mevaluate\u001b[0m\u001b[1;33m\u001b[0m\u001b[1;33m\u001b[0m\u001b[0m\n\u001b[0;32m      3\u001b[0m \u001b[1;33m\u001b[0m\u001b[0m\n\u001b[0;32m      4\u001b[0m \u001b[1;33m\u001b[0m\u001b[0m\n\u001b[0;32m      5\u001b[0m \u001b[1;32mclass\u001b[0m \u001b[0mPopulation\u001b[0m\u001b[1;33m:\u001b[0m\u001b[1;33m\u001b[0m\u001b[1;33m\u001b[0m\u001b[0m\n",
      "\u001b[1;32m~\\Projets\\Polytech\\Bio-inspired Intelligence\\genetic_algorithms\\explorations.py\u001b[0m in \u001b[0;36m<module>\u001b[1;34m\u001b[0m\n\u001b[0;32m      1\u001b[0m \u001b[1;32mimport\u001b[0m \u001b[0mrandom\u001b[0m\u001b[1;33m\u001b[0m\u001b[1;33m\u001b[0m\u001b[0m\n\u001b[1;32m----> 2\u001b[1;33m \u001b[1;32mfrom\u001b[0m \u001b[0mutils\u001b[0m \u001b[1;32mimport\u001b[0m \u001b[0mcopy_individual\u001b[0m\u001b[1;33m,\u001b[0m \u001b[0mgenerate_population\u001b[0m\u001b[1;33m\u001b[0m\u001b[1;33m\u001b[0m\u001b[0m\n\u001b[0m\u001b[0;32m      3\u001b[0m \u001b[1;33m\u001b[0m\u001b[0m\n\u001b[0;32m      4\u001b[0m \u001b[1;33m\u001b[0m\u001b[0m\n\u001b[0;32m      5\u001b[0m \u001b[1;32mclass\u001b[0m \u001b[0mRandomExploration\u001b[0m\u001b[1;33m:\u001b[0m\u001b[1;33m\u001b[0m\u001b[1;33m\u001b[0m\u001b[0m\n",
      "\u001b[1;31mImportError\u001b[0m: cannot import name 'generate_population' from 'utils' (C:\\Users\\pierr\\Projets\\Polytech\\Bio-inspired Intelligence\\genetic_algorithms\\utils.py)"
     ]
    }
   ],
   "source": [
    "from blackbox37 import check\n",
    "import string\n",
    "import random\n",
    "from matplotlib import pyplot as plt\n",
    "%matplotlib inline\n",
    "\n",
    "from cross_overs import CrossOverRandomTwo\n",
    "# from explorations import RandomExploration, SimpleExploration\n",
    "from mutations import NCharMutation\n",
    "from population import Population, Individual"
   ]
  },
  {
   "cell_type": "code",
   "execution_count": null,
   "metadata": {},
   "outputs": [],
   "source": [
    "available_characters = list(string.ascii_uppercase) + [str(i) for i in range(10)]\n",
    "available_characters.append(\"\")\n",
    "GROUP_ID = 2"
   ]
  },
  {
   "cell_type": "code",
   "execution_count": null,
   "metadata": {},
   "outputs": [],
   "source": [
    "print(available_characters)"
   ]
  },
  {
   "cell_type": "code",
   "execution_count": null,
   "metadata": {},
   "outputs": [],
   "source": [
    "def generate():\n",
    "#     size = random.randint(12, 18)\n",
    "    size = 18\n",
    "    individual = random.choices(available_characters, k=size)\n",
    "    while len(individual) < 12:\n",
    "        individual = random.choices(available_characters, k=size)\n",
    "    return individual"
   ]
  },
  {
   "cell_type": "code",
   "execution_count": null,
   "metadata": {},
   "outputs": [],
   "source": [
    "sol = ''.join(generate())\n",
    "print(sol)\n",
    "print(check(group_number=2, attempt=sol))"
   ]
  },
  {
   "cell_type": "code",
   "execution_count": null,
   "metadata": {},
   "outputs": [],
   "source": [
    "def plot_results(average, bests):\n",
    "    plt.figure(figsize=(20, 7))\n",
    "    plt.plot(average, color='green', linestyle='dotted', label='Moyenne de la population actuelle')\n",
    "    plt.plot(bests, color='red', label='Maximum trouvé')\n",
    "    plt.xlabel('Itérations')\n",
    "    plt.ylabel('Scores')\n",
    "    plt.legend(loc=\"upper left\")\n",
    "    plt.show()"
   ]
  },
  {
   "cell_type": "markdown",
   "metadata": {},
   "source": [
    "# Evolution des populations"
   ]
  },
  {
   "cell_type": "code",
   "execution_count": null,
   "metadata": {},
   "outputs": [],
   "source": [
    "def evolve_population(population, max_epochs=1000, show_progress=False, progress_step=10):\n",
    "    averages = []\n",
    "    bests = []\n",
    "    best = population.population[0]\n",
    "    for epoch in range(max_epochs):\n",
    "        population.evaluate()\n",
    "        b = population.get_max()\n",
    "        best = b if b.score > best.score else best\n",
    "        bests.append(best.score)\n",
    "        average = population.get_average_score()\n",
    "        averages.append(average)\n",
    "        \n",
    "        if show_progress:\n",
    "            print(f\"Epoch {epoch+1}/{epochs}: Best {best.phenotype()} ({best.score}) (average: {average})\")\n",
    "            \n",
    "        if best.score == 1.0:\n",
    "            print(f\"Best found: {best.phenotype()} at Epoch {epoch+1}/{epochs}!\")\n",
    "            break\n",
    "            \n",
    "        pop.evolve()\n",
    "    return averages, bests, best"
   ]
  },
  {
   "cell_type": "markdown",
   "metadata": {},
   "source": [
    "## TODO\n",
    "\n",
    "Rajouter :\n",
    "- Dans Population\n",
    "  - get_max() -> Renvoie la classe Individual\n",
    "  - get_average_score()\n",
    "- Dans Individual\n",
    "  - phenotype() -> Retourne le phenotype formaté\n"
   ]
  },
  {
   "cell_type": "code",
   "execution_count": null,
   "metadata": {},
   "outputs": [],
   "source": [
    "def search(population_size=10, epochs=10):\n",
    "    cross_over = CrossOverRandomTwo(0.6)\n",
    "    mutation = NCharMutation(n=2)\n",
    "    exploration = SimpleExploration(cross_over, mutation, bests_size=int(population_size/10))\n",
    "    \n",
    "    population = Population(population_size, exploration=exploration)\n",
    "    averages, bests, best = evolve_population(population, max_epochs=epochs, show_progress=False)\n",
    "    print(f\"Best solution found: {best.phenotype()} ({best.score})\")\n",
    "    plot_results(averages, bests)"
   ]
  },
  {
   "cell_type": "code",
   "execution_count": null,
   "metadata": {},
   "outputs": [],
   "source": [
    "search()"
   ]
  },
  {
   "cell_type": "code",
   "execution_count": null,
   "metadata": {},
   "outputs": [],
   "source": []
  }
 ],
 "metadata": {
  "kernelspec": {
   "display_name": "Python 3",
   "language": "python",
   "name": "python3"
  },
  "language_info": {
   "codemirror_mode": {
    "name": "ipython",
    "version": 3
   },
   "file_extension": ".py",
   "mimetype": "text/x-python",
   "name": "python",
   "nbconvert_exporter": "python",
   "pygments_lexer": "ipython3",
   "version": "3.7.4"
  }
 },
 "nbformat": 4,
 "nbformat_minor": 4
}
